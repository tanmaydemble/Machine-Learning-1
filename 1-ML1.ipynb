{
 "cells": [
  {
   "cell_type": "code",
   "execution_count": 1,
   "id": "24b80700",
   "metadata": {},
   "outputs": [],
   "source": [
    "import numpy as np\n",
    "import random\n",
    "import pandas as pd"
   ]
  },
  {
   "cell_type": "code",
   "execution_count": 2,
   "id": "5cd87f64",
   "metadata": {},
   "outputs": [],
   "source": [
    "def createRandomMatrix():\n",
    "    matrix = []\n",
    "    for i in range(3):\n",
    "        row = []\n",
    "        for j in range(3):\n",
    "            row.append(random.randint(-10, 10))\n",
    "        matrix.append(row)    \n",
    "    return matrix    "
   ]
  },
  {
   "cell_type": "code",
   "execution_count": 23,
   "id": "ea8ce6ce",
   "metadata": {},
   "outputs": [
    {
     "name": "stdout",
     "output_type": "stream",
     "text": [
      "[[6, -10, -5], [-2, -4, 8], [-5, 9, -5]]\n",
      "[[6, 2, 0], [-3, 9, -6], [8, 0, 4]]\n",
      "[[1, 7, 2], [9, -6, 8], [-3, -10, -6]]\n"
     ]
    }
   ],
   "source": [
    "matrix1 = createRandomMatrix()\n",
    "matrix2 = createRandomMatrix()\n",
    "matrix3 = createRandomMatrix()\n",
    "\n",
    "print(matrix1)\n",
    "print(matrix2)\n",
    "print(matrix3)"
   ]
  },
  {
   "cell_type": "code",
   "execution_count": 4,
   "id": "457edce1",
   "metadata": {},
   "outputs": [
    {
     "name": "stdout",
     "output_type": "stream",
     "text": [
      "[[ 0.27586207  0.03448276 -0.03448276]\n",
      " [ 0.70114943  0.37931034 -0.04597701]\n",
      " [ 0.59770115  0.24137931  0.09195402]]\n",
      "[[ 0.06077348 -0.02762431  0.04972376]\n",
      " [ 0.06629834  0.06077348  0.02394107]\n",
      " [ 0.00552486  0.08839779  0.14088398]]\n",
      "[[-0.13744076  0.13981043  0.12085308]\n",
      " [ 0.09952607 -0.11848341  0.03317536]\n",
      " [ 0.16587678 -0.03080569 -0.11137441]]\n"
     ]
    }
   ],
   "source": [
    "inverse_matrix1 = np.linalg.inv(matrix1)\n",
    "inverse_matrix2 = np.linalg.inv(matrix2)\n",
    "inverse_matrix3 = np.linalg.inv(matrix3)\n",
    "print(inverse_matrix1)\n",
    "print(inverse_matrix2)\n",
    "print(inverse_matrix3)"
   ]
  },
  {
   "cell_type": "code",
   "execution_count": 5,
   "id": "f4c673fd",
   "metadata": {},
   "outputs": [
    {
     "name": "stdout",
     "output_type": "stream",
     "text": [
      "[[ 1.00000000e+00  2.77555756e-17  0.00000000e+00]\n",
      " [-2.22044605e-16  1.00000000e+00 -2.77555756e-17]\n",
      " [-2.22044605e-16 -1.94289029e-16  1.00000000e+00]]\n",
      "[[ 1.00000000e+00  5.55111512e-17 -1.11022302e-16]\n",
      " [ 1.21430643e-17  1.00000000e+00  0.00000000e+00]\n",
      " [-7.45931095e-17  8.32667268e-17  1.00000000e+00]]\n",
      "[[1.00000000e+00 2.77555756e-16 1.11022302e-16]\n",
      " [5.55111512e-17 1.00000000e+00 1.38777878e-17]\n",
      " [1.66533454e-16 1.73472348e-16 1.00000000e+00]]\n"
     ]
    }
   ],
   "source": [
    "result1 = np.dot(matrix1, inverse_matrix1)\n",
    "result2 = np.dot(matrix2, inverse_matrix2)\n",
    "result3 = np.dot(matrix3, inverse_matrix3)\n",
    "#np.set_printoptions(precision=3, suppress=True)\n",
    "print(result1)\n",
    "print(result2)\n",
    "print(result3)"
   ]
  },
  {
   "cell_type": "code",
   "execution_count": 18,
   "id": "fbb60714",
   "metadata": {},
   "outputs": [
    {
     "name": "stdout",
     "output_type": "stream",
     "text": [
      "Max values:\n",
      "\n",
      "price           7700000.0000\n",
      "bedrooms             33.0000\n",
      "bathrooms             8.0000\n",
      "sqft_living       13540.0000\n",
      "sqft_lot        1651359.0000\n",
      "floors                3.5000\n",
      "waterfront            1.0000\n",
      "view                  4.0000\n",
      "condition             5.0000\n",
      "grade                13.0000\n",
      "sqft_above         9410.0000\n",
      "sqft_basement      4820.0000\n",
      "yr_built           2015.0000\n",
      "yr_renovated       2015.0000\n",
      "lat                  47.7776\n",
      "long               -121.3150\n",
      "sqft_living15      6210.0000\n",
      "sqft_lot15       871200.0000\n",
      "dtype: float64\n",
      "\n",
      "\n",
      "Min values:\n",
      "\n",
      "price           75000.0000\n",
      "bedrooms            0.0000\n",
      "bathrooms           0.0000\n",
      "sqft_living       290.0000\n",
      "sqft_lot          520.0000\n",
      "floors              1.0000\n",
      "waterfront          0.0000\n",
      "view                0.0000\n",
      "condition           1.0000\n",
      "grade               1.0000\n",
      "sqft_above        290.0000\n",
      "sqft_basement       0.0000\n",
      "yr_built         1900.0000\n",
      "yr_renovated        0.0000\n",
      "lat                47.1559\n",
      "long             -122.5190\n",
      "sqft_living15     399.0000\n",
      "sqft_lot15        651.0000\n",
      "dtype: float64\n",
      "\n",
      "\n"
     ]
    }
   ],
   "source": [
    "df = pd.read_csv('C:\\\\Users\\\\tanma\\\\Downloads\\\\kc_house_data.csv')\n",
    "features_to_ignore = ['id', 'date', 'zipcode']\n",
    "\n",
    "df_subset = df.drop(columns = features_to_ignore)\n",
    "\n",
    "max_values_per_feature_sub = df_subset.max(axis=0)\n",
    "min_values_per_feature_sub = df_subset.min(axis=0)\n",
    "\n",
    "def calculate_average(column):\n",
    "    total = sum(column)\n",
    "    count = len(column)\n",
    "    return round(total / count, 4) if count > 0 else 0\n",
    "\n",
    "def calculate_variance(column):\n",
    "    mean = calculate_average(column)\n",
    "    count = len(column)\n",
    "    sum_squared_diff = sum((x - mean)** 2 for x in column)\n",
    "    variance = round(sum_squared_diff / (len(column) - 1), 4)\n",
    "    return variance\n",
    "\n",
    "def calculate_correlation(column_x, column_y):\n",
    "    mean_x = calculate_average(column_x)\n",
    "    mean_y = calculate_average(column_y)\n",
    "    numerator = sum(((column_x[i] - mean_x) * (column_y[i] - mean_y))\n",
    "                    for i in range(len(column_y)))\n",
    "    denominator = (sum((column_x[i] - mean_x) ** 2\n",
    "                       for i in range(len(column_x))) *\n",
    "                   sum((column_y[i] - mean_y) ** 2\n",
    "                       for i in range(len(column_y)))) ** 0.5\n",
    "    return round(numerator / denominator, 4)\n",
    "\n",
    "pd.set_option('display.float_format', '{:.4f}'.format)\n",
    "\n",
    "print(\"Max values:\\n\")\n",
    "print(max_values_per_feature_sub)\n",
    "print(\"\\n\")\n",
    "\n",
    "print(\"Min values:\\n\")\n",
    "print(min_values_per_feature_sub)\n",
    "print(\"\\n\")"
   ]
  },
  {
   "cell_type": "code",
   "execution_count": 15,
   "id": "df4bb334",
   "metadata": {},
   "outputs": [
    {
     "name": "stdout",
     "output_type": "stream",
     "text": [
      "Averages:\n",
      "\n",
      "price: \t\t540088.1418\n",
      "bedrooms: \t\t3.3708\n",
      "bathrooms: \t\t2.1148\n",
      "sqft_living: \t\t2079.8997\n",
      "sqft_lot: \t\t15106.9676\n",
      "floors: \t\t1.4943\n",
      "waterfront: \t\t0.0075\n",
      "view: \t\t0.2343\n",
      "condition: \t\t3.4094\n",
      "grade: \t\t7.6569\n",
      "sqft_above: \t\t1788.3907\n",
      "sqft_basement: \t\t291.509\n",
      "yr_built: \t\t1971.0051\n",
      "yr_renovated: \t\t84.4023\n",
      "lat: \t\t47.5601\n",
      "long: \t\t-122.2139\n",
      "sqft_living15: \t\t1986.5525\n",
      "sqft_lot15: \t\t12768.4557\n",
      "\n",
      "\n",
      "Max average is price : 540088.1418\n",
      "Min average is long : -122.2139\n",
      "\n",
      "\n"
     ]
    }
   ],
   "source": [
    "print(\"Averages:\\n\")\n",
    "averages = []\n",
    "for column in df_subset.columns:\n",
    "    average = calculate_average(df_subset[column])\n",
    "    print(f\"{column}: \\t\\t{average}\")\n",
    "    averages.append(average)\n",
    "averages = np.array(averages)    \n",
    "max_avg = averages.max(axis = 0)\n",
    "min_avg = averages.min(axis = 0)\n",
    "max_avg_idx = np.argmax(averages, axis = 0)\n",
    "min_avg_idx = np.argmin(averages, axis = 0)\n",
    "print(\"\\n\")\n",
    "print(f\"Max average is {df_subset.columns[max_avg_idx]} : {max_avg}\")\n",
    "print(f\"Min average is {df_subset.columns[min_avg_idx]} : {min_avg}\")\n",
    "print(\"\\n\") "
   ]
  },
  {
   "cell_type": "code",
   "execution_count": 13,
   "id": "5d205dd3",
   "metadata": {
    "scrolled": false
   },
   "outputs": [
    {
     "name": "stdout",
     "output_type": "stream",
     "text": [
      "Variance values:\n",
      "\n",
      "price: \t\t134782378397.2614\n",
      "bedrooms: \t\t0.865\n",
      "bathrooms: \t\t0.5932\n",
      "sqft_living: \t\t843533.6814\n",
      "sqft_lot: \t\t1715658774.1755\n",
      "floors: \t\t0.2916\n",
      "waterfront: \t\t0.0075\n",
      "view: \t\t0.5872\n",
      "condition: \t\t0.4235\n",
      "grade: \t\t1.3817\n",
      "sqft_above: \t\t685734.6673\n",
      "sqft_basement: \t\t195872.6684\n",
      "yr_built: \t\t862.7973\n",
      "yr_renovated: \t\t161346.2119\n",
      "lat: \t\t0.0192\n",
      "long: \t\t0.0198\n",
      "sqft_living15: \t\t469761.2399\n",
      "sqft_lot15: \t\t745518225.3404\n",
      "\n",
      "\n",
      "Max variance is price : 134782378397.2614\n",
      "Min variance is waterfront : 0.0075\n",
      "\n",
      "\n"
     ]
    }
   ],
   "source": [
    "variances = []\n",
    "print(\"Variance values:\\n\")\n",
    "for column in df_subset.columns:\n",
    "    variance = calculate_variance(df_subset[column])\n",
    "    print(f\"{column}: \\t\\t{variance}\")\n",
    "    variances.append(variance)\n",
    "variances = np.array(variances)    \n",
    "max_var = variances.max(axis = 0)\n",
    "min_var = variances.min(axis = 0)\n",
    "max_var_idx = np.argmax(variances, axis = 0)\n",
    "min_var_idx = np.argmin(variances, axis = 0)\n",
    "print(\"\\n\")\n",
    "print(f\"Max variance is {df_subset.columns[max_var_idx]} : {max_var}\")\n",
    "print(f\"Min variance is {df_subset.columns[min_var_idx]} : {min_var}\")\n",
    "print(\"\\n\")\n",
    "\n"
   ]
  },
  {
   "cell_type": "code",
   "execution_count": 21,
   "id": "0dd082d8",
   "metadata": {
    "scrolled": false
   },
   "outputs": [
    {
     "name": "stdout",
     "output_type": "stream",
     "text": [
      "Correlation:\n",
      "\n",
      "bedrooms: \t\t0.3083\n",
      "bathrooms: \t\t0.5251\n",
      "sqft_living: \t\t0.702\n",
      "sqft_lot: \t\t0.0897\n",
      "floors: \t\t0.2568\n",
      "waterfront: \t\t0.2664\n",
      "view: \t\t0.3973\n",
      "condition: \t\t0.0364\n",
      "grade: \t\t0.6674\n",
      "sqft_above: \t\t0.6056\n",
      "sqft_basement: \t\t0.3238\n",
      "yr_built: \t\t0.054\n",
      "yr_renovated: \t\t0.1264\n",
      "lat: \t\t0.307\n",
      "long: \t\t0.0216\n",
      "sqft_living15: \t\t0.5854\n",
      "sqft_lot15: \t\t0.0824\n",
      "\n",
      "\n",
      "The feature with the maximum correlation\n",
      "sqft_living with value 0.702\n",
      "All features are positively correlated with the price\n",
      "No features are negatively correlated with the price\n"
     ]
    }
   ],
   "source": [
    "print(\"Correlation:\\n\")\n",
    "correlations = []\n",
    "for column in df_subset.columns:\n",
    "    if column == 'price':\n",
    "        pass\n",
    "    else:\n",
    "        correlation = calculate_correlation(df['price'], df[column])\n",
    "        print(f\"{column}: \\t\\t{correlation}\")\n",
    "        correlations.append(correlation)\n",
    "print(\"\\n\")    \n",
    "correlations = np.array(correlations)    \n",
    "max_corr = correlations.max(axis = 0)\n",
    "max_corr_idx = np.argmax(correlations, axis = 0)\n",
    "print(f\"The feature with the maximum correlation\")\n",
    "print(f\"{df_subset.columns[max_corr_idx + 1]} with value {max_corr}\")\n",
    "print(\"All features are positively correlated with the price\")\n",
    "print(\"No features are negatively correlated with the price\")\n",
    "pd.reset_option('display.float_format')"
   ]
  }
 ],
 "metadata": {
  "kernelspec": {
   "display_name": "Python 3 (ipykernel)",
   "language": "python",
   "name": "python3"
  },
  "language_info": {
   "codemirror_mode": {
    "name": "ipython",
    "version": 3
   },
   "file_extension": ".py",
   "mimetype": "text/x-python",
   "name": "python",
   "nbconvert_exporter": "python",
   "pygments_lexer": "ipython3",
   "version": "3.11.5"
  }
 },
 "nbformat": 4,
 "nbformat_minor": 5
}
